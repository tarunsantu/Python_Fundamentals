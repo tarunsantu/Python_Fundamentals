{
 "cells": [
  {
   "cell_type": "code",
   "execution_count": null,
   "metadata": {},
   "outputs": [],
   "source": [
    "Looping concepts:"
   ]
  },
  {
   "cell_type": "code",
   "execution_count": 1,
   "metadata": {},
   "outputs": [],
   "source": [
    "students=['ashok','ram','sai','rakesh','thrinath','rambabu','ramana']"
   ]
  },
  {
   "cell_type": "code",
   "execution_count": 2,
   "metadata": {},
   "outputs": [
    {
     "name": "stdout",
     "output_type": "stream",
     "text": [
      "['ashok', 'ram', 'sai', 'rakesh', 'thrinath', 'rambabu', 'ramana']\n"
     ]
    }
   ],
   "source": [
    "print(students)"
   ]
  },
  {
   "cell_type": "code",
   "execution_count": 4,
   "metadata": {},
   "outputs": [
    {
     "name": "stdout",
     "output_type": "stream",
     "text": [
      "you are doing good job,ramana\n"
     ]
    }
   ],
   "source": [
    "print(f'you are doing good job,{students[6]}')"
   ]
  },
  {
   "cell_type": "code",
   "execution_count": 10,
   "metadata": {},
   "outputs": [],
   "source": [
    "students=['ashok','ram','sai','rakesh','thrinath','rambabu','ramana']"
   ]
  },
  {
   "cell_type": "code",
   "execution_count": 13,
   "metadata": {},
   "outputs": [
    {
     "name": "stdout",
     "output_type": "stream",
     "text": [
      "all the best, ashok \n",
      "all the best, ram \n",
      "all the best, sai \n",
      "all the best, rakesh \n",
      "all the best, thrinath \n",
      "all the best, rambabu \n",
      "all the best, ramana \n"
     ]
    }
   ],
   "source": [
    "for x in students:\n",
    "    print(f'all the best, {x} ')"
   ]
  },
  {
   "cell_type": "code",
   "execution_count": null,
   "metadata": {},
   "outputs": [],
   "source": [
    "Indentation:"
   ]
  },
  {
   "cell_type": "code",
   "execution_count": 14,
   "metadata": {},
   "outputs": [
    {
     "name": "stdout",
     "output_type": "stream",
     "text": [
      " keep up good work, ashok\n",
      " keep up good work, ram\n",
      " keep up good work, sai\n",
      " keep up good work, rakesh\n",
      " keep up good work, thrinath\n",
      " keep up good work, rambabu\n",
      " keep up good work, ramana\n"
     ]
    }
   ],
   "source": [
    "for student in students:\n",
    "    print(f' keep up good work, {student}')"
   ]
  },
  {
   "cell_type": "code",
   "execution_count": 15,
   "metadata": {},
   "outputs": [
    {
     "name": "stdout",
     "output_type": "stream",
     "text": [
      " keep up good work, ashok\n",
      " All the best, ashok\n",
      " keep up good work, ram\n",
      " All the best, ram\n",
      " keep up good work, sai\n",
      " All the best, sai\n",
      " keep up good work, rakesh\n",
      " All the best, rakesh\n",
      " keep up good work, thrinath\n",
      " All the best, thrinath\n",
      " keep up good work, rambabu\n",
      " All the best, rambabu\n",
      " keep up good work, ramana\n",
      " All the best, ramana\n"
     ]
    }
   ],
   "source": [
    "for student in students:\n",
    "    print(f' keep up good work, {student}')\n",
    "    print(f' All the best, {student}')"
   ]
  },
  {
   "cell_type": "code",
   "execution_count": 16,
   "metadata": {},
   "outputs": [
    {
     "name": "stdout",
     "output_type": "stream",
     "text": [
      " keep up good work, ashok\n",
      " All the best, ashok.\n",
      "\n",
      " keep up good work, ram\n",
      " All the best, ram.\n",
      "\n",
      " keep up good work, sai\n",
      " All the best, sai.\n",
      "\n",
      " keep up good work, rakesh\n",
      " All the best, rakesh.\n",
      "\n",
      " keep up good work, thrinath\n",
      " All the best, thrinath.\n",
      "\n",
      " keep up good work, rambabu\n",
      " All the best, rambabu.\n",
      "\n",
      " keep up good work, ramana\n",
      " All the best, ramana.\n",
      "\n"
     ]
    }
   ],
   "source": [
    "for student in students:\n",
    "    print(f' keep up good work, {student}')\n",
    "    print(f' All the best, {student}.\\n')"
   ]
  },
  {
   "cell_type": "code",
   "execution_count": 17,
   "metadata": {},
   "outputs": [
    {
     "name": "stdout",
     "output_type": "stream",
     "text": [
      " keep up good work, ashok\n",
      " All the best, ashok\n",
      " keep up good work, ram\n",
      " All the best, ram\n",
      " keep up good work, sai\n",
      " All the best, sai\n",
      " keep up good work, rakesh\n",
      " All the best, rakesh\n",
      " keep up good work, thrinath\n",
      " All the best, thrinath\n",
      " keep up good work, rambabu\n",
      " All the best, rambabu\n",
      " keep up good work, ramana\n",
      " All the best, ramana\n",
      "Thankyou all for your participation\n"
     ]
    }
   ],
   "source": [
    "for student in students:\n",
    "    print(f' keep up good work, {student}')\n",
    "    print(f' All the best, {student}')\n",
    "print ('Thankyou all for your participation')"
   ]
  },
  {
   "cell_type": "code",
   "execution_count": 18,
   "metadata": {},
   "outputs": [
    {
     "name": "stdout",
     "output_type": "stream",
     "text": [
      " keep up good work, ashok\n",
      " All the best, ashok.\n",
      "\n",
      " keep up good work, ram\n",
      " All the best, ram.\n",
      "\n",
      " keep up good work, sai\n",
      " All the best, sai.\n",
      "\n",
      " keep up good work, rakesh\n",
      " All the best, rakesh.\n",
      "\n",
      " keep up good work, thrinath\n",
      " All the best, thrinath.\n",
      "\n",
      " keep up good work, rambabu\n",
      " All the best, rambabu.\n",
      "\n",
      " keep up good work, ramana\n",
      " All the best, ramana.\n",
      "\n",
      "Thankyou all for your participation\n"
     ]
    }
   ],
   "source": [
    "for student in students:\n",
    "    print(f' keep up good work, {student}')\n",
    "    print(f' All the best, {student}.\\n')\n",
    "print ('Thankyou all for your participation')"
   ]
  },
  {
   "cell_type": "code",
   "execution_count": null,
   "metadata": {},
   "outputs": [],
   "source": []
  }
 ],
 "metadata": {
  "kernelspec": {
   "display_name": "Python 3",
   "language": "python",
   "name": "python3"
  },
  "language_info": {
   "codemirror_mode": {
    "name": "ipython",
    "version": 3
   },
   "file_extension": ".py",
   "mimetype": "text/x-python",
   "name": "python",
   "nbconvert_exporter": "python",
   "pygments_lexer": "ipython3",
   "version": "3.7.6"
  }
 },
 "nbformat": 4,
 "nbformat_minor": 4
}
